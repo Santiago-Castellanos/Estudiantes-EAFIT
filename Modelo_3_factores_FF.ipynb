{
  "nbformat": 4,
  "nbformat_minor": 0,
  "metadata": {
    "colab": {
      "provenance": [],
      "authorship_tag": "ABX9TyP4Imoy3GJ28na/ZNhVO4GG",
      "include_colab_link": true
    },
    "kernelspec": {
      "name": "python3",
      "display_name": "Python 3"
    },
    "language_info": {
      "name": "python"
    }
  },
  "cells": [
    {
      "cell_type": "markdown",
      "metadata": {
        "id": "view-in-github",
        "colab_type": "text"
      },
      "source": [
        "<a href=\"https://colab.research.google.com/github/Santiago-Castellanos/Estudiantes-EAFIT/blob/Renta-Variable---EAFIT/Modelo_3_factores_FF.ipynb\" target=\"_parent\"><img src=\"https://colab.research.google.com/assets/colab-badge.svg\" alt=\"Open In Colab\"/></a>"
      ]
    },
    {
      "cell_type": "markdown",
      "source": [
        "## Instalar paquetes\n",
        "\n"
      ],
      "metadata": {
        "id": "P0WYUN5rWjmj"
      }
    },
    {
      "cell_type": "code",
      "source": [
        "!pip install statsmodels\n",
        "!pip install getFamaFrenchFactors\n",
        "\n",
        "import pandas as pd\n",
        "import yfinance as yf\n",
        "import statsmodels.api as sm\n",
        "import getFamaFrenchFactors as gff"
      ],
      "metadata": {
        "colab": {
          "base_uri": "https://localhost:8080/"
        },
        "id": "Z1dfMrQcWDhL",
        "outputId": "07b83801-a004-4ecb-eafc-af5df5d53317"
      },
      "execution_count": null,
      "outputs": [
        {
          "output_type": "stream",
          "name": "stdout",
          "text": [
            "Requirement already satisfied: statsmodels in /usr/local/lib/python3.10/dist-packages (0.13.5)\n",
            "Requirement already satisfied: pandas>=0.25 in /usr/local/lib/python3.10/dist-packages (from statsmodels) (1.5.3)\n",
            "Requirement already satisfied: patsy>=0.5.2 in /usr/local/lib/python3.10/dist-packages (from statsmodels) (0.5.3)\n",
            "Requirement already satisfied: packaging>=21.3 in /usr/local/lib/python3.10/dist-packages (from statsmodels) (23.1)\n",
            "Requirement already satisfied: scipy>=1.3 in /usr/local/lib/python3.10/dist-packages (from statsmodels) (1.10.1)\n",
            "Requirement already satisfied: numpy>=1.17 in /usr/local/lib/python3.10/dist-packages (from statsmodels) (1.22.4)\n",
            "Requirement already satisfied: python-dateutil>=2.8.1 in /usr/local/lib/python3.10/dist-packages (from pandas>=0.25->statsmodels) (2.8.2)\n",
            "Requirement already satisfied: pytz>=2020.1 in /usr/local/lib/python3.10/dist-packages (from pandas>=0.25->statsmodels) (2022.7.1)\n",
            "Requirement already satisfied: six in /usr/local/lib/python3.10/dist-packages (from patsy>=0.5.2->statsmodels) (1.16.0)\n",
            "Collecting getFamaFrenchFactors\n",
            "  Downloading getFamaFrenchFactors-0.0.5-py3-none-any.whl (4.6 kB)\n",
            "Requirement already satisfied: pandas in /usr/local/lib/python3.10/dist-packages (from getFamaFrenchFactors) (1.5.3)\n",
            "Requirement already satisfied: requests in /usr/local/lib/python3.10/dist-packages (from getFamaFrenchFactors) (2.27.1)\n",
            "Collecting bs4 (from getFamaFrenchFactors)\n",
            "  Downloading bs4-0.0.1.tar.gz (1.1 kB)\n",
            "  Preparing metadata (setup.py) ... \u001b[?25l\u001b[?25hdone\n",
            "Requirement already satisfied: beautifulsoup4 in /usr/local/lib/python3.10/dist-packages (from bs4->getFamaFrenchFactors) (4.11.2)\n",
            "Requirement already satisfied: python-dateutil>=2.8.1 in /usr/local/lib/python3.10/dist-packages (from pandas->getFamaFrenchFactors) (2.8.2)\n",
            "Requirement already satisfied: pytz>=2020.1 in /usr/local/lib/python3.10/dist-packages (from pandas->getFamaFrenchFactors) (2022.7.1)\n",
            "Requirement already satisfied: numpy>=1.21.0 in /usr/local/lib/python3.10/dist-packages (from pandas->getFamaFrenchFactors) (1.22.4)\n",
            "Requirement already satisfied: urllib3<1.27,>=1.21.1 in /usr/local/lib/python3.10/dist-packages (from requests->getFamaFrenchFactors) (1.26.16)\n",
            "Requirement already satisfied: certifi>=2017.4.17 in /usr/local/lib/python3.10/dist-packages (from requests->getFamaFrenchFactors) (2023.5.7)\n",
            "Requirement already satisfied: charset-normalizer~=2.0.0 in /usr/local/lib/python3.10/dist-packages (from requests->getFamaFrenchFactors) (2.0.12)\n",
            "Requirement already satisfied: idna<4,>=2.5 in /usr/local/lib/python3.10/dist-packages (from requests->getFamaFrenchFactors) (3.4)\n",
            "Requirement already satisfied: six>=1.5 in /usr/local/lib/python3.10/dist-packages (from python-dateutil>=2.8.1->pandas->getFamaFrenchFactors) (1.16.0)\n",
            "Requirement already satisfied: soupsieve>1.2 in /usr/local/lib/python3.10/dist-packages (from beautifulsoup4->bs4->getFamaFrenchFactors) (2.4.1)\n",
            "Building wheels for collected packages: bs4\n",
            "  Building wheel for bs4 (setup.py) ... \u001b[?25l\u001b[?25hdone\n",
            "  Created wheel for bs4: filename=bs4-0.0.1-py3-none-any.whl size=1257 sha256=d3def6e3223bd91cce6a192d65f6034057ea6a71ca1c1a981e361b5b5a9588c5\n",
            "  Stored in directory: /root/.cache/pip/wheels/25/42/45/b773edc52acb16cd2db4cf1a0b47117e2f69bb4eb300ed0e70\n",
            "Successfully built bs4\n",
            "Installing collected packages: bs4, getFamaFrenchFactors\n",
            "Successfully installed bs4-0.0.1 getFamaFrenchFactors-0.0.5\n"
          ]
        }
      ]
    },
    {
      "cell_type": "markdown",
      "source": [
        "## Descargar datos"
      ],
      "metadata": {
        "id": "drCAN1nLWr6x"
      }
    },
    {
      "cell_type": "markdown",
      "source": [
        "### Descargar datos acción y calcular retornos"
      ],
      "metadata": {
        "id": "iYUSBOJRW44b"
      }
    },
    {
      "cell_type": "code",
      "source": [
        "ticker = 'msft'\n",
        "start = '2016-8-31'\n",
        "end = '2023-07-24'\n",
        "\n",
        "stock_data = yf.download(ticker, start, end)"
      ],
      "metadata": {
        "colab": {
          "base_uri": "https://localhost:8080/"
        },
        "id": "5-HaEBXDWq24",
        "outputId": "4277d8e6-83e0-4cda-bc5d-25733af1f7ae"
      },
      "execution_count": null,
      "outputs": [
        {
          "output_type": "stream",
          "name": "stdout",
          "text": [
            "\r[*********************100%***********************]  1 of 1 completed\n"
          ]
        }
      ]
    },
    {
      "cell_type": "code",
      "source": [
        "stock_returns = stock_data['Adj Close'].resample('M').last().pct_change().dropna()\n",
        "stock_returns.name = \"Month_Rtn\""
      ],
      "metadata": {
        "id": "K7QXYaEeXPUy"
      },
      "execution_count": null,
      "outputs": []
    },
    {
      "cell_type": "markdown",
      "source": [
        "### Descargar información factores"
      ],
      "metadata": {
        "id": "f0jDRwenW8cr"
      }
    },
    {
      "cell_type": "markdown",
      "source": [
        "Información descargada desde:\n",
        "http://mba.tuck.dartmouth.edu/pages/faculty/ken.french/data_library.html"
      ],
      "metadata": {
        "id": "vxHYaqcLXAiu"
      }
    },
    {
      "cell_type": "code",
      "source": [
        "ff3_monthly = gff.famaFrench3Factor(frequency='m')\n",
        "ff3_monthly.rename(columns={\"date_ff_factors\": 'Date'}, inplace=True)\n",
        "ff3_monthly.set_index('Date', inplace=True)"
      ],
      "metadata": {
        "id": "8f2s5COXWxcf"
      },
      "execution_count": null,
      "outputs": []
    },
    {
      "cell_type": "markdown",
      "source": [
        "## Fusionar matriz retornos y facrores"
      ],
      "metadata": {
        "id": "9G5Ag-CxYWrl"
      }
    },
    {
      "cell_type": "code",
      "source": [
        "ff_data = ff3_monthly.merge(stock_returns,on='Date')"
      ],
      "metadata": {
        "id": "uFkwOKd_XxQV"
      },
      "execution_count": null,
      "outputs": []
    },
    {
      "cell_type": "code",
      "source": [
        "X = ff_data[['Mkt-RF', 'SMB', 'HML']]\n",
        "y = ff_data['Month_Rtn'] - ff_data['RF']\n",
        "X = sm.add_constant(X)"
      ],
      "metadata": {
        "id": "5f9GFOiSXo-h"
      },
      "execution_count": null,
      "outputs": []
    },
    {
      "cell_type": "markdown",
      "source": [
        "## Calcular modelo de regresión lineal"
      ],
      "metadata": {
        "id": "WkqKrhHtYegq"
      }
    },
    {
      "cell_type": "markdown",
      "source": [
        "Recordar que al realizar una regresion lineal estamos encontrando los factores (betas) de la siguiente forma:\n",
        "Y = Xβ+ ϵ\n",
        "Donde Y es la variable a explicar (retornos de la accion) y X es una matriz compuesta por los factores que me van a explicar el comportamiento de Y.  "
      ],
      "metadata": {
        "id": "FEASOWbmYhd2"
      }
    },
    {
      "cell_type": "code",
      "source": [
        "ff_model = sm.OLS(y, X).fit()\n",
        "print(ff_model.summary())\n",
        "intercept, b1, b2, b3 = ff_model.params"
      ],
      "metadata": {
        "colab": {
          "base_uri": "https://localhost:8080/"
        },
        "id": "kxoslKbXX4k0",
        "outputId": "88c0bd10-e119-417a-9c82-bb851119de70"
      },
      "execution_count": null,
      "outputs": [
        {
          "output_type": "stream",
          "name": "stdout",
          "text": [
            "                            OLS Regression Results                            \n",
            "==============================================================================\n",
            "Dep. Variable:                      y   R-squared:                       0.716\n",
            "Model:                            OLS   Adj. R-squared:                  0.705\n",
            "Method:                 Least Squares   F-statistic:                     64.76\n",
            "Date:                Mon, 24 Jul 2023   Prob (F-statistic):           5.28e-21\n",
            "Time:                        21:53:41   Log-Likelihood:                 167.26\n",
            "No. Observations:                  81   AIC:                            -326.5\n",
            "Df Residuals:                      77   BIC:                            -316.9\n",
            "Df Model:                           3                                         \n",
            "Covariance Type:            nonrobust                                         \n",
            "==============================================================================\n",
            "                 coef    std err          t      P>|t|      [0.025      0.975]\n",
            "------------------------------------------------------------------------------\n",
            "const          0.0128      0.004      3.577      0.001       0.006       0.020\n",
            "Mkt-RF         0.9661      0.074     12.981      0.000       0.818       1.114\n",
            "SMB           -0.5052      0.131     -3.849      0.000      -0.767      -0.244\n",
            "HML           -0.4430      0.082     -5.388      0.000      -0.607      -0.279\n",
            "==============================================================================\n",
            "Omnibus:                        4.883   Durbin-Watson:                   2.277\n",
            "Prob(Omnibus):                  0.087   Jarque-Bera (JB):                5.087\n",
            "Skew:                           0.291   Prob(JB):                       0.0786\n",
            "Kurtosis:                       4.081   Cond. No.                         38.2\n",
            "==============================================================================\n",
            "\n",
            "Notes:\n",
            "[1] Standard Errors assume that the covariance matrix of the errors is correctly specified.\n"
          ]
        }
      ]
    },
    {
      "cell_type": "markdown",
      "source": [
        "## Modelo"
      ],
      "metadata": {
        "id": "P4fiXdrEZhyp"
      }
    },
    {
      "cell_type": "code",
      "execution_count": null,
      "metadata": {
        "colab": {
          "base_uri": "https://localhost:8080/"
        },
        "id": "WT-PE5reWAvq",
        "outputId": "ee4e6f34-8b05-41ea-fa39-78de122a31d8"
      },
      "outputs": [
        {
          "output_type": "stream",
          "name": "stdout",
          "text": [
            "Retorno anual esperado: 0.059528208726503586\n"
          ]
        }
      ],
      "source": [
        "rf = ff_data['RF'].mean()\n",
        "market_premium = ff3_monthly['Mkt-RF'].mean()\n",
        "size_premium = ff3_monthly['SMB'].mean()\n",
        "value_premium = ff3_monthly['HML'].mean()\n",
        "\n",
        "expected_monthly_return = rf + b1 * market_premium + b2 * size_premium + b3 * value_premium\n",
        "expected_yearly_return = expected_monthly_return * 12\n",
        "print(\"Retorno anual esperado: \" + str(expected_yearly_return))"
      ]
    }
  ]
}